{
    "cells": [
        {
            "cell_type": "markdown",
            "source": [
                "# What is a neural network?"
            ],
            "metadata": {}
        },
        {
            "cell_type": "markdown",
            "source": [
                "A neural network is nothing but a function that learns a mapping from a set of inputs to an output. For example, for a given set of house properties, like size, number of bedrooms, etc, the function will try to learn to predict the optimum price for the house."
            ],
            "metadata": {}
        },
        {
            "cell_type": "markdown",
            "source": [
                "# Supervised Learning"
            ],
            "metadata": {}
        },
        {
            "cell_type": "markdown",
            "source": [
                "The supervised learning refers to the process of learning function parameters from a set of inputs X and outputs y. Below, there are some examples of supervised applications from real life experiences."
            ],
            "metadata": {}
        },
        {
            "cell_type": "markdown",
            "source": [
                "| Inputs (x)        | Output (y)             | Application        |\n",
                "| :------:          | :--------:             | :---------:        |\n",
                "| Home Features     | Price                  | Real Estate        | \n",
                "| ad, user info     | click on ad? (0/1)     | online advertising |\n",
                "| Image             | object (1,..,1000)     | Photo tagging      |\n",
                "| Audio             | Text transcript        | Speech recognition |\n",
                "| English           | choice                 | machine translation|\n",
                "| Image, Radar info | Position of other cars | Autonomous driving |"
            ],
            "metadata": {}
        },
        {
            "cell_type": "markdown",
            "source": [
                "# Structured data vs unstructured data"
            ],
            "metadata": {}
        },
        {
            "cell_type": "markdown",
            "source": [
                "Sturcutred data are the type of data where data items are organized on a sort of tabular format where many columns represents the inputs, i.e. features, and one column represent the output for each input. Unstructured data, in contrast, is any data that does not match the condition above like the audio and textual data. Usually, unstructured data is transformed to a format understandable by neural networks like Bag of Words transformation for textual data."
            ],
            "metadata": {}
        },
        {
            "cell_type": "markdown",
            "source": [
                "# Why Deep Learning starts to take off just recently?"
            ],
            "metadata": {}
        },
        {
            "cell_type": "markdown",
            "source": [
                "The current remarkable rase of deep learning happens because of the amount of the available data and the compute machinery that was not attainable before. Consider the graph below from the course lectures:"
            ],
            "metadata": {}
        },
        {
            "cell_type": "markdown",
            "source": [
                "![Performance vs amount of data](images/performance_vs_amount_of_data.png)"
            ],
            "metadata": {}
        },
        {
            "cell_type": "markdown",
            "source": [
                "Couple of notes can be noticed here:"
            ],
            "metadata": {}
        },
        {
            "cell_type": "markdown",
            "source": [
                "- Previously, traditional models, like svm and logestic regression, tend to work just well due to the limited amount of data available. However, they can not get the best advantage with a large amount of data.\n",
                "- As long as the data gets bigger, deeper models can better exploit it and learn better mappings.\n",
                "- Deeper models may be quite similar do shallower or traditional models in terms of performance given a small amount of data. However, with large amount of data, they advanced these shallow models.\n",
                "- With a minimum amount of data, the hand engineering features could be the key to success even with shallower models. In fact, the order of the models within this range is not well defined."
            ],
            "metadata": {}
        },
        {
            "cell_type": "markdown",
            "source": [
                "From the above discussion, one can say that the modern world of deep learning is mainly derived by the scale, scale of data and computation. This is also not to ignore the big advances in the proposed algorithms that makes the learning of the network quite faster and more efficient."
            ],
            "metadata": {}
        },
        {
            "cell_type": "markdown",
            "source": [
                "One more note to add is that the process of training deep learning model is iterative. The network parameters are scaled over maturing experiments."
            ],
            "metadata": {}
        },
        {
            "cell_type": "markdown",
            "source": [
                "---"
            ],
            "metadata": {}
        }
    ],
    "metadata": {
        "orig_nbformat": 4,
        "language_info": {
            "name": "python"
        }
    },
    "nbformat": 4,
    "nbformat_minor": 2
}
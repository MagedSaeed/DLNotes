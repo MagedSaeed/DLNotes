{
    "cells": [
        {
            "cell_type": "markdown",
            "source": [
                "# Supervised Learning"
            ],
            "metadata": {}
        },
        {
            "cell_type": "markdown",
            "source": [
                "The supervised learning refers to the process of learning function parameters from a set of inputs X and outputs y."
            ],
            "metadata": {}
        },
        {
            "cell_type": "markdown",
            "source": [
                "Sturcutred data are the type of data where data items are organized on a sort of tabular format where many columns represents the inputs, i.e. features, and one column represent the output for each input. Unstructured data, in contrast, is any data that does not match the condition above like the audio and textual data. Usually, unstructured data is transformed to a format understandable by neural networks like Bag of Words transformation for textual data."
            ],
            "metadata": {}
        },
        {
            "cell_type": "markdown",
            "source": [
                "# Why Deep Learning starts to take off just recently?"
            ],
            "metadata": {}
        },
        {
            "cell_type": "markdown",
            "source": [
                "Because mainly for the amount of the available data and the compute macheniry. In other words, the modern world of deep learning is mainly derived by the scale, scale of data and computation."
            ],
            "metadata": {}
        },
        {
            "cell_type": "markdown",
            "source": [
                "The process of training deep learning model is iterative. The network parameters are scaled over maturing experiments."
            ],
            "metadata": {}
        },
        {
            "cell_type": "markdown",
            "source": [
                "---"
            ],
            "metadata": {}
        }
    ],
    "metadata": {
        "orig_nbformat": 4,
        "language_info": {
            "name": "python"
        }
    },
    "nbformat": 4,
    "nbformat_minor": 2
}
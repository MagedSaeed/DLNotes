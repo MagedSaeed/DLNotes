{
 "cells": [
  {
   "cell_type": "markdown",
   "source": [
    "# Train, Dev and Test sets"
   ],
   "metadata": {}
  },
  {
   "cell_type": "markdown",
   "source": [
    "As previously mentioned, training a neural network is a very iterative process. The are many hyperparameters that needs to be chosen and adjusted iteratively. To take the most advantage of the data and find out the optimal values for the hyperparameters, the dataset can be split into three sets:\n",
    "- The training set. This is used to train the algorithm and its hyperparameters.\n",
    "- The hold out/cross validation/development set. This is used to test the algorithm and its parameters while searching for the optimal hyperparameters. This test set will be used multiple times through out the iterative process of network training.\n",
    "- Once hyperparameters are found and the algorithm stabilizes, it is then tested on a completely separate test set."
   ],
   "metadata": {}
  },
  {
   "cell_type": "markdown",
   "source": [
    "So, the workflow is to train algorithms and their parameters on the training set, test their performance and compare them on the development set. Finally, once the final model is found, it is then evaluated on the test set in order to get an unbiased estimate of the algorithm's performance."
   ],
   "metadata": {}
  },
  {
   "cell_type": "markdown",
   "source": [
    "## train, dev, and test sets sizes"
   ],
   "metadata": {}
  },
  {
   "cell_type": "markdown",
   "source": [
    "Previously, the ration of 70%/30% splits for train/test sets or maybe 60%/20%/20% splits for train/development/test splits was widely considered the best practice. However, these ratios was applied on a small datasets. "
   ],
   "metadata": {}
  },
  {
   "cell_type": "markdown",
   "source": [
    "On the modern deep learning era, the size of the datasets is extremely large. Having a very large test set may reduce the possibility to better exploit the data for further variations and patterns. Hence, usually, the ratio becomes that around 99% of the dataset is reserved for training, 1% for development, and 1% for test sets."
   ],
   "metadata": {}
  },
  {
   "cell_type": "markdown",
   "source": [
    "One important remark to consider is to keep an eye on **the train/test sets distributions**. Both sets should come from the same distribution. For example, if the network is trained on a high quality images, the test set be of high quality images as well."
   ],
   "metadata": {}
  },
  {
   "cell_type": "markdown",
   "source": [],
   "metadata": {}
  }
 ],
 "metadata": {
  "orig_nbformat": 4,
  "language_info": {
   "name": "python"
  }
 },
 "nbformat": 4,
 "nbformat_minor": 2
}